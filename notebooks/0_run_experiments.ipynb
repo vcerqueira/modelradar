{
 "cells": [
  {
   "cell_type": "markdown",
   "id": "796066c3-40ef-4d7e-845b-ec4501641cf7",
   "metadata": {},
   "source": [
    "# ModelRadar Tutorial Part 1 - Experiments\n",
    "\n",
    "We need to run some experiments to apply modelradar. This notebook uses neuralforecast and statsforecast to train and test the following models: NHITS, KAN, MLP (2 hidden layers), and MLP (3 hidden layers).\n",
    "\n",
    "Cross-validation is conducted based on Nixtla's framework."
   ]
  },
  {
   "cell_type": "markdown",
   "id": "4b6cf935-cc49-430b-81e3-9b8162402b71",
   "metadata": {},
   "source": [
    "- Loading the required libraries:"
   ]
  },
  {
   "cell_type": "code",
   "execution_count": 9,
   "id": "9be4709d-cf4c-4412-9cba-709b9bb55af6",
   "metadata": {},
   "outputs": [],
   "source": [
    "import warnings\n",
    "\n",
    "import pandas as pd\n",
    "from datasetsforecast.m3 import M3\n",
    "from neuralforecast.models import NHITS, MLP, KAN\n",
    "from neuralforecast import NeuralForecast\n",
    "from statsforecast.models import SeasonalNaive\n",
    "from statsforecast import StatsForecast\n",
    "\n",
    "# !pip install modelradar -U\n",
    "from modelradar.pipelines.data_splits import train_test_split\n",
    "\n",
    "warnings.filterwarnings(\"ignore\")"
   ]
  },
  {
   "cell_type": "markdown",
   "id": "7385891f-dcfb-4334-af5e-d8bf622ea940",
   "metadata": {},
   "source": [
    "- Loading the dataset (m3 monthly) and splitting it into training and testing sets:"
   ]
  },
  {
   "cell_type": "code",
   "execution_count": 2,
   "id": "b1690494-4bbe-4a67-8a77-340545b90d0b",
   "metadata": {},
   "outputs": [
    {
     "name": "stderr",
     "output_type": "stream",
     "text": [
      "100%|████████████████████████████████████████████████████████████████████████████████████████████████████████████████████████████████████████████| 1.76M/1.76M [00:00<00:00, 3.22MiB/s]\n",
      "INFO:datasetsforecast.utils:Successfully downloaded M3C.xls, 1757696, bytes.\n",
      "/Users/vcerq/miniconda/envs/modelradar/lib/python3.10/site-packages/datasetsforecast/m3.py:108: FutureWarning: 'M' is deprecated and will be removed in a future version, please use 'ME' instead.\n",
      "  freq = pd.tseries.frequencies.to_offset(class_group.freq)\n"
     ]
    }
   ],
   "source": [
    "ds, *_ = M3.load('.', group='Monthly')\n",
    "\n",
    "input_size, horizon = 12, 12\n",
    "\n",
    "train_df, test_df = train_test_split(ds, horizon=horizon)"
   ]
  },
  {
   "cell_type": "markdown",
   "id": "9b7203c8-cee7-471f-86c2-da3eb29470c7",
   "metadata": {},
   "source": [
    "- Preparing the models based on neuralforecast and statsforecast and running cross-validation:"
   ]
  },
  {
   "cell_type": "code",
   "execution_count": null,
   "id": "3d6d6a96-6866-45e3-beda-d46b3a2138bc",
   "metadata": {},
   "outputs": [],
   "source": [
    "models = [NHITS(h=horizon, input_size=input_size),\n",
    "          KAN(h=horizon, input_size=input_size),\n",
    "          MLP(h=horizon, input_size=input_size),\n",
    "          MLP(h=horizon, input_size=input_size, num_layers=3)]\n",
    "\n",
    "stats_models = [SeasonalNaive(season_length=12)]\n",
    "\n",
    "nf = NeuralForecast(models=models, freq='ME')\n",
    "sf = StatsForecast(models=stats_models, freq='ME', n_jobs=1)\n",
    "\n",
    "cv_nf = nf.cross_validation(df=train_df, n_windows=2)\n",
    "cv_sf = sf.cross_validation(df=train_df, h=horizon, level=[99])\n",
    "\n",
    "cv = cv_nf.merge(cv_sf.drop(columns='y'), on=['unique_id', 'ds', 'cutoff'])"
   ]
  },
  {
   "cell_type": "markdown",
   "id": "4e46fbad-cbc9-4029-92ba-4b9051f35677",
   "metadata": {},
   "source": [
    "- Estimating anomalous observations based on a predictions interval approach using seasonal naive. Essentially, observations outside the 99%-confidence prediction interval of a seasonal naive are considered anomalous."
   ]
  },
  {
   "cell_type": "code",
   "execution_count": 4,
   "id": "266c9bcc-2745-440d-9080-1d1178d9d488",
   "metadata": {},
   "outputs": [],
   "source": [
    "is_outside_pi = (cv['y'] >= cv['SeasonalNaive-hi-99']) | (cv['y'] <= cv['SeasonalNaive-lo-99'])\n",
    "is_outside_pi = is_outside_pi.astype(int)\n",
    "cv['is_anomaly'] = is_outside_pi.astype(int)"
   ]
  },
  {
   "cell_type": "code",
   "execution_count": 6,
   "id": "8eb535cb-c686-4c64-8470-b3b7dcae8545",
   "metadata": {},
   "outputs": [
    {
     "data": {
      "text/html": [
       "<div>\n",
       "<style scoped>\n",
       "    .dataframe tbody tr th:only-of-type {\n",
       "        vertical-align: middle;\n",
       "    }\n",
       "\n",
       "    .dataframe tbody tr th {\n",
       "        vertical-align: top;\n",
       "    }\n",
       "\n",
       "    .dataframe thead th {\n",
       "        text-align: right;\n",
       "    }\n",
       "</style>\n",
       "<table border=\"1\" class=\"dataframe\">\n",
       "  <thead>\n",
       "    <tr style=\"text-align: right;\">\n",
       "      <th></th>\n",
       "      <th>ds</th>\n",
       "      <th>cutoff</th>\n",
       "      <th>NHITS</th>\n",
       "      <th>KAN</th>\n",
       "      <th>MLP</th>\n",
       "      <th>MLP1</th>\n",
       "      <th>y</th>\n",
       "      <th>SeasonalNaive</th>\n",
       "      <th>SeasonalNaive-lo-99</th>\n",
       "      <th>SeasonalNaive-hi-99</th>\n",
       "      <th>is_anomaly</th>\n",
       "    </tr>\n",
       "    <tr>\n",
       "      <th>unique_id</th>\n",
       "      <th></th>\n",
       "      <th></th>\n",
       "      <th></th>\n",
       "      <th></th>\n",
       "      <th></th>\n",
       "      <th></th>\n",
       "      <th></th>\n",
       "      <th></th>\n",
       "      <th></th>\n",
       "      <th></th>\n",
       "      <th></th>\n",
       "    </tr>\n",
       "  </thead>\n",
       "  <tbody>\n",
       "    <tr>\n",
       "      <th>M1</th>\n",
       "      <td>1993-09-30</td>\n",
       "      <td>1993-08-31</td>\n",
       "      <td>2522.375977</td>\n",
       "      <td>2832.563232</td>\n",
       "      <td>2227.387207</td>\n",
       "      <td>2108.703369</td>\n",
       "      <td>4800.0</td>\n",
       "      <td>6720.0</td>\n",
       "      <td>-1538.656675</td>\n",
       "      <td>14978.656675</td>\n",
       "      <td>0</td>\n",
       "    </tr>\n",
       "    <tr>\n",
       "      <th>M1</th>\n",
       "      <td>1993-10-31</td>\n",
       "      <td>1993-08-31</td>\n",
       "      <td>2222.809082</td>\n",
       "      <td>2208.655029</td>\n",
       "      <td>1891.918701</td>\n",
       "      <td>1820.084595</td>\n",
       "      <td>3000.0</td>\n",
       "      <td>2040.0</td>\n",
       "      <td>-6218.656675</td>\n",
       "      <td>10298.656675</td>\n",
       "      <td>0</td>\n",
       "    </tr>\n",
       "    <tr>\n",
       "      <th>M1</th>\n",
       "      <td>1993-11-30</td>\n",
       "      <td>1993-08-31</td>\n",
       "      <td>2850.925781</td>\n",
       "      <td>3215.884521</td>\n",
       "      <td>2641.873047</td>\n",
       "      <td>2418.422607</td>\n",
       "      <td>3120.0</td>\n",
       "      <td>6480.0</td>\n",
       "      <td>-1778.656675</td>\n",
       "      <td>14738.656675</td>\n",
       "      <td>0</td>\n",
       "    </tr>\n",
       "    <tr>\n",
       "      <th>M1</th>\n",
       "      <td>1993-12-31</td>\n",
       "      <td>1993-08-31</td>\n",
       "      <td>2324.294678</td>\n",
       "      <td>2065.045898</td>\n",
       "      <td>1888.080688</td>\n",
       "      <td>1995.671875</td>\n",
       "      <td>5880.0</td>\n",
       "      <td>1920.0</td>\n",
       "      <td>-6338.656675</td>\n",
       "      <td>10178.656675</td>\n",
       "      <td>0</td>\n",
       "    </tr>\n",
       "    <tr>\n",
       "      <th>M1</th>\n",
       "      <td>1994-01-31</td>\n",
       "      <td>1993-08-31</td>\n",
       "      <td>2614.612061</td>\n",
       "      <td>2493.655762</td>\n",
       "      <td>2245.066650</td>\n",
       "      <td>2192.622559</td>\n",
       "      <td>2640.0</td>\n",
       "      <td>3600.0</td>\n",
       "      <td>-4658.656675</td>\n",
       "      <td>11858.656675</td>\n",
       "      <td>0</td>\n",
       "    </tr>\n",
       "  </tbody>\n",
       "</table>\n",
       "</div>"
      ],
      "text/plain": [
       "                  ds     cutoff        NHITS          KAN          MLP  \\\n",
       "unique_id                                                                \n",
       "M1        1993-09-30 1993-08-31  2522.375977  2832.563232  2227.387207   \n",
       "M1        1993-10-31 1993-08-31  2222.809082  2208.655029  1891.918701   \n",
       "M1        1993-11-30 1993-08-31  2850.925781  3215.884521  2641.873047   \n",
       "M1        1993-12-31 1993-08-31  2324.294678  2065.045898  1888.080688   \n",
       "M1        1994-01-31 1993-08-31  2614.612061  2493.655762  2245.066650   \n",
       "\n",
       "                  MLP1       y  SeasonalNaive  SeasonalNaive-lo-99  \\\n",
       "unique_id                                                            \n",
       "M1         2108.703369  4800.0         6720.0         -1538.656675   \n",
       "M1         1820.084595  3000.0         2040.0         -6218.656675   \n",
       "M1         2418.422607  3120.0         6480.0         -1778.656675   \n",
       "M1         1995.671875  5880.0         1920.0         -6338.656675   \n",
       "M1         2192.622559  2640.0         3600.0         -4658.656675   \n",
       "\n",
       "           SeasonalNaive-hi-99  is_anomaly  \n",
       "unique_id                                   \n",
       "M1                14978.656675           0  \n",
       "M1                10298.656675           0  \n",
       "M1                14738.656675           0  \n",
       "M1                10178.656675           0  \n",
       "M1                11858.656675           0  "
      ]
     },
     "execution_count": 6,
     "metadata": {},
     "output_type": "execute_result"
    }
   ],
   "source": [
    "cv.head()"
   ]
  },
  {
   "cell_type": "markdown",
   "id": "e9e93bfb-4f2b-4176-9386-519705ef11e8",
   "metadata": {},
   "source": [
    "- Storing cross-validation results in a csv file:"
   ]
  },
  {
   "cell_type": "code",
   "execution_count": 7,
   "id": "dedb07d1-1c6b-4db5-b39b-dc41ca0d3aca",
   "metadata": {},
   "outputs": [],
   "source": [
    "cv.to_csv('cv.csv')"
   ]
  }
 ],
 "metadata": {
  "kernelspec": {
   "display_name": "Python 3 (ipykernel)",
   "language": "python",
   "name": "python3"
  },
  "language_info": {
   "codemirror_mode": {
    "name": "ipython",
    "version": 3
   },
   "file_extension": ".py",
   "mimetype": "text/x-python",
   "name": "python",
   "nbconvert_exporter": "python",
   "pygments_lexer": "ipython3",
   "version": "3.10.15"
  }
 },
 "nbformat": 4,
 "nbformat_minor": 5
}
