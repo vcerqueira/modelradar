{
 "cells": [
  {
   "cell_type": "markdown",
   "id": "1dec3adc-f158-4adf-a5ff-5c9d9a1e66d1",
   "metadata": {},
   "source": [
    "# assdada\n",
    "\n",
    "asdsadsad\n",
    "asdasda\n"
   ]
  },
  {
   "cell_type": "code",
   "execution_count": 1,
   "id": "55d600da-f01b-4cef-8c16-80391e68988a",
   "metadata": {},
   "outputs": [],
   "source": [
    "import warnings\n",
    "\n",
    "warnings.filterwarnings(\"ignore\")"
   ]
  },
  {
   "cell_type": "markdown",
   "id": "bdbbbc8e-5981-422c-b2c6-b3a952de7cfa",
   "metadata": {},
   "source": [
    "installsadasda"
   ]
  },
  {
   "cell_type": "code",
   "execution_count": 2,
   "id": "0142c78b-e2c8-4a35-92f2-652b8970df57",
   "metadata": {},
   "outputs": [
    {
     "name": "stdout",
     "output_type": "stream",
     "text": [
      "Collecting modelradar\n",
      "  Using cached modelradar-0.1.0-py3-none-any.whl.metadata (1.6 kB)\n",
      "Requirement already satisfied: numpy==1.26.0 in /Users/vcerq/miniconda/envs/modelradar/lib/python3.10/site-packages (from modelradar) (1.26.0)\n",
      "Requirement already satisfied: plotnine==0.14.3 in /Users/vcerq/miniconda/envs/modelradar/lib/python3.10/site-packages (from modelradar) (0.14.3)\n",
      "Requirement already satisfied: statsmodels==0.14.4 in /Users/vcerq/miniconda/envs/modelradar/lib/python3.10/site-packages (from modelradar) (0.14.4)\n",
      "Collecting utilsforecast==0.2.8 (from modelradar)\n",
      "  Using cached utilsforecast-0.2.8-py3-none-any.whl.metadata (7.4 kB)\n",
      "Requirement already satisfied: matplotlib>=3.8.0 in /Users/vcerq/miniconda/envs/modelradar/lib/python3.10/site-packages (from plotnine==0.14.3->modelradar) (3.9.3)\n",
      "Requirement already satisfied: pandas>=2.2.0 in /Users/vcerq/miniconda/envs/modelradar/lib/python3.10/site-packages (from plotnine==0.14.3->modelradar) (2.2.3)\n",
      "Requirement already satisfied: mizani~=0.13.0 in /Users/vcerq/miniconda/envs/modelradar/lib/python3.10/site-packages (from plotnine==0.14.3->modelradar) (0.13.0)\n",
      "Requirement already satisfied: scipy>=1.8.0 in /Users/vcerq/miniconda/envs/modelradar/lib/python3.10/site-packages (from plotnine==0.14.3->modelradar) (1.14.1)\n",
      "Requirement already satisfied: patsy>=0.5.6 in /Users/vcerq/miniconda/envs/modelradar/lib/python3.10/site-packages (from statsmodels==0.14.4->modelradar) (1.0.1)\n",
      "Requirement already satisfied: packaging>=21.3 in /Users/vcerq/miniconda/envs/modelradar/lib/python3.10/site-packages (from statsmodels==0.14.4->modelradar) (24.2)\n",
      "Requirement already satisfied: contourpy>=1.0.1 in /Users/vcerq/miniconda/envs/modelradar/lib/python3.10/site-packages (from matplotlib>=3.8.0->plotnine==0.14.3->modelradar) (1.3.1)\n",
      "Requirement already satisfied: cycler>=0.10 in /Users/vcerq/miniconda/envs/modelradar/lib/python3.10/site-packages (from matplotlib>=3.8.0->plotnine==0.14.3->modelradar) (0.12.1)\n",
      "Requirement already satisfied: fonttools>=4.22.0 in /Users/vcerq/miniconda/envs/modelradar/lib/python3.10/site-packages (from matplotlib>=3.8.0->plotnine==0.14.3->modelradar) (4.55.2)\n",
      "Requirement already satisfied: kiwisolver>=1.3.1 in /Users/vcerq/miniconda/envs/modelradar/lib/python3.10/site-packages (from matplotlib>=3.8.0->plotnine==0.14.3->modelradar) (1.4.7)\n",
      "Requirement already satisfied: pillow>=8 in /Users/vcerq/miniconda/envs/modelradar/lib/python3.10/site-packages (from matplotlib>=3.8.0->plotnine==0.14.3->modelradar) (11.0.0)\n",
      "Requirement already satisfied: pyparsing>=2.3.1 in /Users/vcerq/miniconda/envs/modelradar/lib/python3.10/site-packages (from matplotlib>=3.8.0->plotnine==0.14.3->modelradar) (3.2.0)\n",
      "Requirement already satisfied: python-dateutil>=2.7 in /Users/vcerq/miniconda/envs/modelradar/lib/python3.10/site-packages (from matplotlib>=3.8.0->plotnine==0.14.3->modelradar) (2.9.0.post0)\n",
      "Requirement already satisfied: pytz>=2020.1 in /Users/vcerq/miniconda/envs/modelradar/lib/python3.10/site-packages (from pandas>=2.2.0->plotnine==0.14.3->modelradar) (2024.2)\n",
      "Requirement already satisfied: tzdata>=2022.7 in /Users/vcerq/miniconda/envs/modelradar/lib/python3.10/site-packages (from pandas>=2.2.0->plotnine==0.14.3->modelradar) (2024.2)\n",
      "Requirement already satisfied: six>=1.5 in /Users/vcerq/miniconda/envs/modelradar/lib/python3.10/site-packages (from python-dateutil>=2.7->matplotlib>=3.8.0->plotnine==0.14.3->modelradar) (1.16.0)\n",
      "Using cached modelradar-0.1.0-py3-none-any.whl (2.5 kB)\n",
      "Using cached utilsforecast-0.2.8-py3-none-any.whl (41 kB)\n",
      "Installing collected packages: utilsforecast, modelradar\n",
      "  Attempting uninstall: utilsforecast\n",
      "    Found existing installation: utilsforecast 0.2.10\n",
      "    Uninstalling utilsforecast-0.2.10:\n",
      "      Successfully uninstalled utilsforecast-0.2.10\n",
      "\u001b[31mERROR: pip's dependency resolver does not currently take into account all the packages that are installed. This behaviour is the source of the following dependency conflicts.\n",
      "mlforecast 1.0.0 requires utilsforecast>=0.2.9, but you have utilsforecast 0.2.8 which is incompatible.\u001b[0m\u001b[31m\n",
      "\u001b[0mSuccessfully installed modelradar-0.1.0 utilsforecast-0.2.8\n"
     ]
    }
   ],
   "source": [
    "# !pip install modelradar -U"
   ]
  },
  {
   "cell_type": "code",
   "execution_count": null,
   "id": "e33120a0-c295-4e66-af80-7b005d465617",
   "metadata": {},
   "outputs": [],
   "source": [
    "import pandas as pd\n",
    "from datasetsforecast.m3 import M3\n",
    "from neuralforecast.models import NHITS, MLP, KAN\n",
    "from neuralforecast import NeuralForecast\n",
    "from statsforecast.models import SeasonalNaive\n",
    "from statsforecast import StatsForecast\n"
   ]
  }
 ],
 "metadata": {
  "kernelspec": {
   "display_name": "Python 3 (ipykernel)",
   "language": "python",
   "name": "python3"
  },
  "language_info": {
   "codemirror_mode": {
    "name": "ipython",
    "version": 3
   },
   "file_extension": ".py",
   "mimetype": "text/x-python",
   "name": "python",
   "nbconvert_exporter": "python",
   "pygments_lexer": "ipython3",
   "version": "3.10.15"
  }
 },
 "nbformat": 4,
 "nbformat_minor": 5
}
